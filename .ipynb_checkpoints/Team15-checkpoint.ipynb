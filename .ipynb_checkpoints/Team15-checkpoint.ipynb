{
 "cells": [
  {
   "cell_type": "code",
   "execution_count": 1,
   "metadata": {},
   "outputs": [],
   "source": [
    "# Arabic Tweets Emotion Recognition\n",
    "# Team 15"
   ]
  },
  {
   "cell_type": "code",
   "execution_count": 52,
   "metadata": {
    "scrolled": true
   },
   "outputs": [
    {
     "name": "stdout",
     "output_type": "stream",
     "text": [
      "Requirement already satisfied: chardet in c:\\users\\noura\\appdata\\local\\programs\\python\\python310\\lib\\site-packages (5.1.0)\n"
     ]
    },
    {
     "name": "stderr",
     "output_type": "stream",
     "text": [
      "WARNING: You are using pip version 21.2.3; however, version 23.1.2 is available.\n",
      "You should consider upgrading via the 'C:\\Users\\noura\\AppData\\Local\\Programs\\Python\\Python310\\python.exe -m pip install --upgrade pip' command.\n"
     ]
    },
    {
     "name": "stdout",
     "output_type": "stream",
     "text": [
      "Requirement already satisfied: wordcloud in c:\\users\\noura\\appdata\\local\\programs\\python\\python310\\lib\\site-packages (1.9.1.1)"
     ]
    },
    {
     "name": "stderr",
     "output_type": "stream",
     "text": [
      "WARNING: You are using pip version 21.2.3; however, version 23.1.2 is available.\n",
      "You should consider upgrading via the 'C:\\Users\\noura\\AppData\\Local\\Programs\\Python\\Python310\\python.exe -m pip install --upgrade pip' command.\n"
     ]
    },
    {
     "name": "stdout",
     "output_type": "stream",
     "text": [
      "\n",
      "Requirement already satisfied: numpy>=1.6.1 in c:\\users\\noura\\appdata\\local\\programs\\python\\python310\\lib\\site-packages (from wordcloud) (1.22.4)\n",
      "Requirement already satisfied: pillow in c:\\users\\noura\\appdata\\local\\programs\\python\\python310\\lib\\site-packages (from wordcloud) (9.1.1)\n",
      "Requirement already satisfied: matplotlib in c:\\users\\noura\\appdata\\local\\programs\\python\\python310\\lib\\site-packages (from wordcloud) (3.6.1)\n",
      "Requirement already satisfied: fonttools>=4.22.0 in c:\\users\\noura\\appdata\\local\\programs\\python\\python310\\lib\\site-packages (from matplotlib->wordcloud) (4.37.4)\n",
      "Requirement already satisfied: packaging>=20.0 in c:\\users\\noura\\appdata\\local\\programs\\python\\python310\\lib\\site-packages (from matplotlib->wordcloud) (21.3)\n",
      "Requirement already satisfied: pyparsing>=2.2.1 in c:\\users\\noura\\appdata\\local\\programs\\python\\python310\\lib\\site-packages (from matplotlib->wordcloud) (3.0.9)\n",
      "Requirement already satisfied: kiwisolver>=1.0.1 in c:\\users\\noura\\appdata\\local\\programs\\python\\python310\\lib\\site-packages (from matplotlib->wordcloud) (1.4.4)\n",
      "Requirement already satisfied: python-dateutil>=2.7 in c:\\users\\noura\\appdata\\local\\programs\\python\\python310\\lib\\site-packages (from matplotlib->wordcloud) (2.8.2)\n",
      "Requirement already satisfied: cycler>=0.10 in c:\\users\\noura\\appdata\\local\\programs\\python\\python310\\lib\\site-packages (from matplotlib->wordcloud) (0.11.0)\n",
      "Requirement already satisfied: contourpy>=1.0.1 in c:\\users\\noura\\appdata\\local\\programs\\python\\python310\\lib\\site-packages (from matplotlib->wordcloud) (1.0.5)\n",
      "Requirement already satisfied: six>=1.5 in c:\\users\\noura\\appdata\\local\\programs\\python\\python310\\lib\\site-packages (from python-dateutil>=2.7->matplotlib->wordcloud) (1.16.0)\n",
      "Requirement already satisfied: arabic-reshaper in c:\\users\\noura\\appdata\\local\\programs\\python\\python310\\lib\\site-packages (3.0.0)\n"
     ]
    },
    {
     "name": "stderr",
     "output_type": "stream",
     "text": [
      "WARNING: You are using pip version 21.2.3; however, version 23.1.2 is available.\n",
      "You should consider upgrading via the 'C:\\Users\\noura\\AppData\\Local\\Programs\\Python\\Python310\\python.exe -m pip install --upgrade pip' command.\n"
     ]
    },
    {
     "name": "stdout",
     "output_type": "stream",
     "text": [
      "Requirement already satisfied: python-bidi in c:\\users\\noura\\appdata\\local\\programs\\python\\python310\\lib\\site-packages (0.4.2)\n",
      "Requirement already satisfied: six in c:\\users\\noura\\appdata\\local\\programs\\python\\python310\\lib\\site-packages (from python-bidi) (1.16.0)\n"
     ]
    },
    {
     "name": "stderr",
     "output_type": "stream",
     "text": [
      "WARNING: You are using pip version 21.2.3; however, version 23.1.2 is available.\n",
      "You should consider upgrading via the 'C:\\Users\\noura\\AppData\\Local\\Programs\\Python\\Python310\\python.exe -m pip install --upgrade pip' command.\n"
     ]
    }
   ],
   "source": [
    "!pip install chardet\n",
    "!pip install wordcloud\n",
    "!pip install arabic-reshaper\n",
    "!pip install python-bidi"
   ]
  },
  {
   "cell_type": "code",
   "execution_count": 53,
   "metadata": {},
   "outputs": [],
   "source": [
    "import os\n",
    "import glob\n",
    "import codecs\n",
    "\n",
    "folder_path_neg = 'Twitter/Twitter/Negative'\n",
    "folder_path_pos = 'Twitter/Twitter/Positive'\n",
    "\n",
    "text_files_neg = {}\n",
    "text_files_pos = {}\n",
    "\n",
    "for file_path in glob.glob(os.path.join(folder_path_neg, '*.txt')):\n",
    "    # Read the contents of the text file\n",
    "    with open(file_path, 'r',encoding='UTF-8-SIG',errors='replace') as file:\n",
    "        file_contents = file.read()\n",
    "    # Store the file contents in the dictionary with the file name as the key\n",
    "    text_files_neg[os.path.basename(file_path)] = file_contents\n",
    "\n",
    "for file_path in glob.glob(os.path.join(folder_path_pos, '*.txt')):\n",
    "    # Read the contents of the text file\n",
    "    with open(file_path, 'r',encoding='UTF-8-SIG',errors='replace') as file:\n",
    "        file_contents = file.read()\n",
    "    # Store the file contents in the dictionary with the file name as the key\n",
    "    text_files_pos[os.path.basename(file_path)] = file_contents\n"
   ]
  },
  {
   "cell_type": "code",
   "execution_count": 54,
   "metadata": {},
   "outputs": [
    {
     "name": "stdout",
     "output_type": "stream",
     "text": [
      "البنزين يجي من السعوديه بأقل الاسعار و الحكومه عندنا تدبل سعره\n",
      "\n"
     ]
    }
   ],
   "source": [
    "print(text_files_neg[list(text_files_neg.keys())[1]])"
   ]
  },
  {
   "cell_type": "code",
   "execution_count": 55,
   "metadata": {},
   "outputs": [
    {
     "name": "stdout",
     "output_type": "stream",
     "text": [
      "اه و النعمة \n",
      "\n"
     ]
    }
   ],
   "source": [
    "print(text_files_pos[list(text_files_pos.keys())[2]])"
   ]
  },
  {
   "cell_type": "code",
   "execution_count": 56,
   "metadata": {},
   "outputs": [
    {
     "name": "stdout",
     "output_type": "stream",
     "text": [
      "The number of  records of the positive dataset is 1000 \n",
      "The data volume of the positive dataset is 35.25 MB\n",
      "The number of  records of the negative dataset is 1000 \n",
      "The data volume of the negative dataset is 35.25 MB\n"
     ]
    }
   ],
   "source": [
    "import pandas as pd\n",
    "import sys\n",
    "\n",
    "\n",
    "# Calculate the number of records in the dataset\n",
    "num_records_pos = len(text_files_pos)\n",
    "num_records_neg = len(text_files_neg)\n",
    "\n",
    "# Calculate the size of each record in bytes\n",
    "record_size_pos = sys.getsizeof(text_files_pos)\n",
    "record_size_neg = sys.getsizeof(text_files_neg)\n",
    "\n",
    "# Calculate the total data volume in bytes\n",
    "data_volume_pos = num_records_pos * record_size_pos\n",
    "data_volume_neg = num_records_neg * record_size_neg\n",
    "\n",
    "# Convert the data volume to a more human-readable format\n",
    "data_volume_pos_mb = data_volume_pos / (1024 * 1024)\n",
    "data_volume_neg_mb = data_volume_neg / (1024 * 1024)\n",
    "\n",
    "# Print the data volume\n",
    "print(f\"The number of  records of the positive dataset is {num_records_pos} \")\n",
    "print(f\"The data volume of the positive dataset is {data_volume_pos_mb:.2f} MB\")\n",
    "print(f\"The number of  records of the negative dataset is {num_records_neg} \")\n",
    "print(f\"The data volume of the negative dataset is {data_volume_neg_mb:.2f} MB\")\n",
    "\n",
    "\n"
   ]
  },
  {
   "cell_type": "code",
   "execution_count": 57,
   "metadata": {},
   "outputs": [
    {
     "name": "stderr",
     "output_type": "stream",
     "text": [
      "findfont: Font family 'Scheherazade' not found.\n",
      "findfont: Font family 'Scheherazade' not found.\n",
      "findfont: Font family 'Scheherazade' not found.\n",
      "findfont: Font family 'Scheherazade' not found.\n",
      "findfont: Font family 'Scheherazade' not found.\n",
      "findfont: Font family 'Scheherazade' not found.\n",
      "findfont: Font family 'Scheherazade' not found.\n",
      "findfont: Font family 'Scheherazade' not found.\n",
      "findfont: Font family 'Scheherazade' not found.\n",
      "findfont: Font family 'Scheherazade' not found.\n",
      "findfont: Font family 'Scheherazade' not found.\n",
      "findfont: Font family 'Scheherazade' not found.\n",
      "findfont: Font family 'Scheherazade' not found.\n",
      "findfont: Font family 'Scheherazade' not found.\n",
      "findfont: Font family 'Scheherazade' not found.\n",
      "findfont: Font family 'Scheherazade' not found.\n",
      "findfont: Font family 'Scheherazade' not found.\n",
      "findfont: Font family 'Scheherazade' not found.\n",
      "findfont: Font family 'Scheherazade' not found.\n",
      "findfont: Font family 'Scheherazade' not found.\n",
      "findfont: Font family 'Scheherazade' not found.\n",
      "findfont: Font family 'Scheherazade' not found.\n",
      "findfont: Font family 'Scheherazade' not found.\n",
      "findfont: Font family 'Scheherazade' not found.\n",
      "findfont: Font family 'Scheherazade' not found.\n",
      "findfont: Font family 'Scheherazade' not found.\n",
      "findfont: Font family 'Scheherazade' not found.\n",
      "findfont: Font family 'Scheherazade' not found.\n",
      "findfont: Font family 'Scheherazade' not found.\n",
      "findfont: Font family 'Scheherazade' not found.\n",
      "findfont: Font family 'Scheherazade' not found.\n",
      "findfont: Font family 'Scheherazade' not found.\n",
      "findfont: Font family 'Scheherazade' not found.\n",
      "findfont: Font family 'Scheherazade' not found.\n",
      "findfont: Font family 'Scheherazade' not found.\n",
      "findfont: Font family 'Scheherazade' not found.\n",
      "findfont: Font family 'Scheherazade' not found.\n",
      "findfont: Font family 'Scheherazade' not found.\n",
      "findfont: Font family 'Scheherazade' not found.\n",
      "findfont: Font family 'Scheherazade' not found.\n",
      "findfont: Font family 'Scheherazade' not found.\n",
      "findfont: Font family 'Scheherazade' not found.\n",
      "findfont: Font family 'Scheherazade' not found.\n",
      "findfont: Font family 'Scheherazade' not found.\n",
      "findfont: Font family 'Scheherazade' not found.\n",
      "findfont: Font family 'Scheherazade' not found.\n",
      "findfont: Font family 'Scheherazade' not found.\n",
      "findfont: Font family 'Scheherazade' not found.\n",
      "findfont: Font family 'Scheherazade' not found.\n",
      "findfont: Font family 'Scheherazade' not found.\n",
      "findfont: Font family 'Scheherazade' not found.\n",
      "findfont: Font family 'Scheherazade' not found.\n",
      "findfont: Font family 'Scheherazade' not found.\n"
     ]
    },
    {
     "data": {
      "image/png": "[encoded data removed]",
      "text/plain": [
       "<Figure size 640x480 with 1 Axes>"
      ]
     },
     "metadata": {},
     "output_type": "display_data"
    }
   ],
   "source": [
    "import arabic_reshaper\n",
    "import matplotlib.pyplot as plt\n",
    "from bidi.algorithm import get_display\n",
    "from collections import Counter\n",
    "\n",
    "# Combine all text into a single string\n",
    "all_text = ' '.join(text_files_pos.values())\n",
    "\n",
    "# Reshape the Arabic text to display correctly in matplotlib\n",
    "reshaped_text = arabic_reshaper.reshape(all_text)\n",
    "display_text = get_display(reshaped_text)\n",
    "\n",
    "# Split the text into words and count the frequency of each word\n",
    "words = display_text.split()\n",
    "word_counts = Counter(words)\n",
    "\n",
    "# Plot a histogram of the word frequencies\n",
    "plt.hist(list(word_counts.values()), bins=30, density=True, alpha=0.5)\n",
    "\n",
    "# Show the plot\n",
    "plt.show()"
   ]
  },
  {
   "cell_type": "code",
   "execution_count": 58,
   "metadata": {},
   "outputs": [
    {
     "name": "stderr",
     "output_type": "stream",
     "text": [
      "findfont: Font family 'Scheherazade' not found.\n",
      "findfont: Font family 'Scheherazade' not found.\n",
      "findfont: Font family 'Scheherazade' not found.\n",
      "findfont: Font family 'Scheherazade' not found.\n",
      "findfont: Font family 'Scheherazade' not found.\n",
      "findfont: Font family 'Scheherazade' not found.\n",
      "findfont: Font family 'Scheherazade' not found.\n",
      "findfont: Font family 'Scheherazade' not found.\n",
      "findfont: Font family 'Scheherazade' not found.\n",
      "findfont: Font family 'Scheherazade' not found.\n",
      "findfont: Font family 'Scheherazade' not found.\n",
      "findfont: Font family 'Scheherazade' not found.\n",
      "findfont: Font family 'Scheherazade' not found.\n",
      "findfont: Font family 'Scheherazade' not found.\n",
      "findfont: Font family 'Scheherazade' not found.\n",
      "findfont: Font family 'Scheherazade' not found.\n",
      "findfont: Font family 'Scheherazade' not found.\n",
      "findfont: Font family 'Scheherazade' not found.\n",
      "findfont: Font family 'Scheherazade' not found.\n",
      "findfont: Font family 'Scheherazade' not found.\n",
      "findfont: Font family 'Scheherazade' not found.\n",
      "findfont: Font family 'Scheherazade' not found.\n",
      "findfont: Font family 'Scheherazade' not found.\n",
      "findfont: Font family 'Scheherazade' not found.\n",
      "findfont: Font family 'Scheherazade' not found.\n",
      "findfont: Font family 'Scheherazade' not found.\n",
      "findfont: Font family 'Scheherazade' not found.\n",
      "findfont: Font family 'Scheherazade' not found.\n",
      "findfont: Font family 'Scheherazade' not found.\n",
      "findfont: Font family 'Scheherazade' not found.\n",
      "findfont: Font family 'Scheherazade' not found.\n",
      "findfont: Font family 'Scheherazade' not found.\n",
      "findfont: Font family 'Scheherazade' not found.\n",
      "findfont: Font family 'Scheherazade' not found.\n",
      "findfont: Font family 'Scheherazade' not found.\n",
      "findfont: Font family 'Scheherazade' not found.\n",
      "findfont: Font family 'Scheherazade' not found.\n",
      "findfont: Font family 'Scheherazade' not found.\n",
      "findfont: Font family 'Scheherazade' not found.\n",
      "findfont: Font family 'Scheherazade' not found.\n",
      "findfont: Font family 'Scheherazade' not found.\n",
      "findfont: Font family 'Scheherazade' not found.\n",
      "findfont: Font family 'Scheherazade' not found.\n",
      "findfont: Font family 'Scheherazade' not found.\n",
      "findfont: Font family 'Scheherazade' not found.\n",
      "findfont: Font family 'Scheherazade' not found.\n",
      "findfont: Font family 'Scheherazade' not found.\n",
      "findfont: Font family 'Scheherazade' not found.\n",
      "findfont: Font family 'Scheherazade' not found.\n",
      "findfont: Font family 'Scheherazade' not found.\n",
      "findfont: Font family 'Scheherazade' not found.\n"
     ]
    },
    {
     "data": {
      "image/png": "[encoded data removed]",
      "text/plain": [
       "<Figure size 640x480 with 1 Axes>"
      ]
     },
     "metadata": {},
     "output_type": "display_data"
    }
   ],
   "source": [
    "import numpy as np\n",
    "import matplotlib.pyplot as plt\n",
    "\n",
    "# Get the length of each word in the sentences\n",
    "word_lengths = []\n",
    "for sentence in text_files_pos.values():\n",
    "    for word in sentence.split():\n",
    "        word_lengths.append(len(word))\n",
    "\n",
    "# Calculate the mean and standard deviation of the word lengths\n",
    "mean = np.mean(word_lengths)\n",
    "std_dev = np.std(word_lengths)\n",
    "\n",
    "# Generate a normal distribution of word lengths\n",
    "dist = np.random.normal(mean, std_dev, 1000)\n",
    "\n",
    "# Plot the distribution of word lengths\n",
    "plt.hist(dist, bins=50)\n",
    "plt.xlabel('Word Length')\n",
    "plt.ylabel('Frequency')\n",
    "plt.title('Distribution of Word Lengths in Positive Arabic Tweets')\n",
    "plt.show()"
   ]
  },
  {
   "cell_type": "code",
   "execution_count": 45,
   "metadata": {},
   "outputs": [
    {
     "name": "stderr",
     "output_type": "stream",
     "text": [
      "findfont: Font family 'Scheherazade' not found.\n",
      "findfont: Font family 'Scheherazade' not found.\n",
      "findfont: Font family 'Scheherazade' not found.\n",
      "findfont: Font family 'Scheherazade' not found.\n",
      "findfont: Font family 'Scheherazade' not found.\n",
      "findfont: Font family 'Scheherazade' not found.\n",
      "findfont: Font family 'Scheherazade' not found.\n",
      "findfont: Font family 'Scheherazade' not found.\n",
      "findfont: Font family 'Scheherazade' not found.\n",
      "findfont: Font family 'Scheherazade' not found.\n",
      "findfont: Font family 'Scheherazade' not found.\n",
      "findfont: Font family 'Scheherazade' not found.\n",
      "findfont: Font family 'Scheherazade' not found.\n",
      "findfont: Font family 'Scheherazade' not found.\n",
      "findfont: Font family 'Scheherazade' not found.\n",
      "findfont: Font family 'Scheherazade' not found.\n",
      "findfont: Font family 'Scheherazade' not found.\n",
      "findfont: Font family 'Scheherazade' not found.\n",
      "findfont: Font family 'Scheherazade' not found.\n",
      "findfont: Font family 'Scheherazade' not found.\n",
      "findfont: Font family 'Scheherazade' not found.\n",
      "findfont: Font family 'Scheherazade' not found.\n",
      "findfont: Font family 'Scheherazade' not found.\n",
      "findfont: Font family 'Scheherazade' not found.\n",
      "findfont: Font family 'Scheherazade' not found.\n",
      "findfont: Font family 'Scheherazade' not found.\n",
      "findfont: Font family 'Scheherazade' not found.\n",
      "findfont: Font family 'Scheherazade' not found.\n",
      "findfont: Font family 'Scheherazade' not found.\n",
      "findfont: Font family 'Scheherazade' not found.\n",
      "findfont: Font family 'Scheherazade' not found.\n",
      "findfont: Font family 'Scheherazade' not found.\n",
      "findfont: Font family 'Scheherazade' not found.\n",
      "findfont: Font family 'Scheherazade' not found.\n",
      "findfont: Font family 'Scheherazade' not found.\n",
      "findfont: Font family 'Scheherazade' not found.\n",
      "findfont: Font family 'Scheherazade' not found.\n",
      "findfont: Font family 'Scheherazade' not found.\n",
      "findfont: Font family 'Scheherazade' not found.\n",
      "findfont: Font family 'Scheherazade' not found.\n",
      "findfont: Font family 'Scheherazade' not found.\n",
      "findfont: Font family 'Scheherazade' not found.\n",
      "findfont: Font family 'Scheherazade' not found.\n",
      "findfont: Font family 'Scheherazade' not found.\n",
      "findfont: Font family 'Scheherazade' not found.\n",
      "findfont: Font family 'Scheherazade' not found.\n",
      "findfont: Font family 'Scheherazade' not found.\n",
      "findfont: Font family 'Scheherazade' not found.\n",
      "findfont: Font family 'Scheherazade' not found.\n",
      "findfont: Font family 'Scheherazade' not found.\n",
      "findfont: Font family 'Scheherazade' not found.\n",
      "findfont: Font family 'Scheherazade' not found.\n",
      "findfont: Font family 'Scheherazade' not found.\n",
      "findfont: Font family 'Scheherazade' not found.\n",
      "findfont: Font family 'Scheherazade' not found.\n",
      "findfont: Font family 'Scheherazade' not found.\n",
      "findfont: Font family 'Scheherazade' not found.\n"
     ]
    },
    {
     "data": {
      "image/png": "[encoded data removed]",
      "text/plain": [
       "<Figure size 640x480 with 1 Axes>"
      ]
     },
     "metadata": {},
     "output_type": "display_data"
    }
   ],
   "source": [
    "import numpy as np\n",
    "import matplotlib.pyplot as plt\n",
    "\n",
    "# Get the length of each word in the sentences\n",
    "word_lengths = []\n",
    "for sentence in text_files_neg.values():\n",
    "    for word in sentence.split():\n",
    "        word_lengths.append(len(word))\n",
    "\n",
    "# Calculate the mean and standard deviation of the word lengths\n",
    "mean = np.mean(word_lengths)\n",
    "std_dev = np.std(word_lengths)\n",
    "\n",
    "# Generate a normal distribution of word lengths\n",
    "dist = np.random.normal(mean, std_dev, 1000)\n",
    "\n",
    "# Plot the distribution of word lengths\n",
    "plt.hist(dist, bins=50)\n",
    "plt.xlabel('Word Length')\n",
    "plt.ylabel('Frequency')\n",
    "plt.title('Distribution of Word Lengths in Negative Arabic Tweets')\n",
    "plt.show()"
   ]
  },
  {
   "cell_type": "code",
   "execution_count": 59,
   "metadata": {},
   "outputs": [
    {
     "name": "stdout",
     "output_type": "stream",
     "text": [
      "Number of stop words removed in the negative dataset: 1944\n",
      "Number of words corrected in negative dataset: 8734\n"
     ]
    }
   ],
   "source": [
    "from spellchecker import SpellChecker\n",
    "from nltk.corpus import stopwords\n",
    "from collections import Counter\n",
    "import pyarabic.araby as araby\n",
    "\n",
    "# Create a SpellChecker object for Arabic\n",
    "spell = SpellChecker(language='ar')\n",
    "\n",
    "# Load Arabic stop words\n",
    "stop_words = set(stopwords.words('arabic'))\n",
    "\n",
    "# Define a function to check if a word is spelled correctly\n",
    "def check_spelling(word):\n",
    "    # Check if the word is a valid spelling according to the spellchecker\n",
    "    if spell.correction(word) == word:\n",
    "        return True\n",
    "    else:\n",
    "        return False\n",
    "\n",
    "# Define a function to correct a misspelled word\n",
    "# Define a function to correct a misspelled word\n",
    "def correct_spelling(word):\n",
    "    # Check if the word is a valid spelling according to the spellchecker\n",
    "    if spell.correction(word) == word:\n",
    "        return word\n",
    "    else:\n",
    "        corrections = spell.candidates(word)\n",
    "        if corrections:\n",
    "            return list(corrections)[0]\n",
    "        else:\n",
    "            return word\n",
    "\n",
    "num_misspelled_words = 0\n",
    "num_stop_words = Counter()\n",
    "num_corrected_words = 0\n",
    "for sentence in text_files_neg.values():\n",
    "    # Split the sentence into words\n",
    "    words = sentence.split()\n",
    "    # Count stop words\n",
    "    num_stop_words.update([word for word in words if word in stop_words])\n",
    "    # Remove stop words and correct misspelled words\n",
    "    corrected_words = [correct_spelling(word) if not araby.is_arabicrange(word) and not check_spelling(word) else word for word in words if word not in stop_words]\n",
    "    # Count misspelled words and corrected words\n",
    "    num_misspelled_words += sum([1 for word in corrected_words if not araby.is_arabicrange(word) and not check_spelling(word)])\n",
    "    num_corrected_words += sum([1 for word in corrected_words if word != check_spelling(word)])\n",
    "    # Join the words back into a sentence\n",
    "    corrected_sentence = \" \".join(corrected_words)\n",
    "\n",
    "print(f\"Number of stop words removed in the negative dataset: {sum(num_stop_words.values())}\")\n",
    "print(f\"Number of words corrected in negative dataset: {num_corrected_words}\")"
   ]
  },
  {
   "cell_type": "code",
   "execution_count": 64,
   "metadata": {},
   "outputs": [
    {
     "ename": "NameError",
     "evalue": "name 'corrected_sentences' is not defined",
     "output_type": "error",
     "traceback": [
      "\u001b[1;31m---------------------------------------------------------------------------\u001b[0m",
      "\u001b[1;31mNameError\u001b[0m                                 Traceback (most recent call last)",
      "Cell \u001b[1;32mIn [64], line 66\u001b[0m\n\u001b[0;32m     63\u001b[0m     corrected_pos[key] \u001b[38;5;241m=\u001b[39m corrected_sentence\n\u001b[0;32m     65\u001b[0m \u001b[38;5;66;03m# Print the corrected sentences and the number of stop words removed and misspelled words corrected\u001b[39;00m\n\u001b[1;32m---> 66\u001b[0m \u001b[38;5;28mprint\u001b[39m(\u001b[38;5;124mf\u001b[39m\u001b[38;5;124m\"\u001b[39m\u001b[38;5;124mCorrected sentences: \u001b[39m\u001b[38;5;132;01m{\u001b[39;00mcorrected_sentences\u001b[38;5;132;01m}\u001b[39;00m\u001b[38;5;124m\"\u001b[39m)\n\u001b[0;32m     67\u001b[0m \u001b[38;5;28mprint\u001b[39m(\u001b[38;5;124mf\u001b[39m\u001b[38;5;124m\"\u001b[39m\u001b[38;5;124mNumber of stop words removed: \u001b[39m\u001b[38;5;132;01m{\u001b[39;00mnum_stop_words_removed\u001b[38;5;132;01m}\u001b[39;00m\u001b[38;5;124m\"\u001b[39m)\n\u001b[0;32m     68\u001b[0m \u001b[38;5;28mprint\u001b[39m(\u001b[38;5;124mf\u001b[39m\u001b[38;5;124m\"\u001b[39m\u001b[38;5;124mNumber of misspelled words corrected: \u001b[39m\u001b[38;5;132;01m{\u001b[39;00mnum_misspelled_words_corrected\u001b[38;5;132;01m}\u001b[39;00m\u001b[38;5;124m\"\u001b[39m)\n",
      "\u001b[1;31mNameError\u001b[0m: name 'corrected_sentences' is not defined"
     ]
    }
   ],
   "source": [
    "from spellchecker import SpellChecker\n",
    "from nltk.corpus import stopwords\n",
    "from collections import Counter\n",
    "import pyarabic.araby as araby\n",
    "\n",
    "# Create a SpellChecker object for Arabic\n",
    "spell = SpellChecker(language='ar')\n",
    "\n",
    "# Load Arabic stop words\n",
    "stop_words = set(stopwords.words('arabic'))\n",
    "\n",
    "# Define a function to check if a word is spelled correctly\n",
    "def check_spelling(word):\n",
    "    # Check if the word is a valid spelling according to the spellchecker\n",
    "    if spell.correction(word) == word:\n",
    "        return True\n",
    "    else:\n",
    "        return False\n",
    "\n",
    "# Define a function to correct a misspelled word\n",
    "def correct_spelling(word):\n",
    "    # Check if the word is a valid spelling according to the spellchecker\n",
    "    if spell.correction(word) == word:\n",
    "        return word\n",
    "    else:\n",
    "        corrections = spell.candidates(word)\n",
    "        if corrections:\n",
    "            return list(corrections)[0]\n",
    "        else:\n",
    "            return word\n",
    "\n",
    "# Define the original dictionary of Arabic sentences\n",
    "sentences = {\n",
    "    1: 'هذا مثال على جملة باللغة العربية',\n",
    "    2: 'الحياة جميلة عندما تعيشها بإيجابية',\n",
    "     3: 'العلم نور ينير الطريق إلى النجاح',\n",
    "    4: 'الصبر مفتاح الفرج والسعادة',\n",
    "    5: 'التجربة هي أم الحكمة'\n",
    "}\n",
    "\n",
    "# Define a new dictionary to store the corrected sentences\n",
    "corrected_pos = {}\n",
    "\n",
    "# Initialize counters for stop words removed and misspelled words corrected\n",
    "num_stop_words_removed = 0\n",
    "num_misspelled_words_corrected = 0\n",
    "\n",
    "# Iterate over the original sentences and correct the misspelled words\n",
    "for key, sentence in text_files_pos.items():\n",
    "    # Split the sentence into words\n",
    "    words = sentence.split()\n",
    "    # Count stop words\n",
    "    num_stop_words = Counter([word for word in words if word in stop_words])\n",
    "    num_stop_words_removed += sum(num_stop_words.values())\n",
    "    # Remove stop words and correct misspelled words\n",
    "    corrected_words = [correct_spelling(word) if not araby.is_arabicrange(word) and not check_spelling(word) else word for word in words if word not in stop_words]\n",
    "    # Count misspelled words and corrected words\n",
    "    num_misspelled_words = Counter([word for word in corrected_words if not araby.is_arabicrange(word) and not check_spelling(word)])\n",
    "    num_misspelled_words_corrected += sum(num_misspelled_words.values())\n",
    "    # Join the words back into a sentence\n",
    "    corrected_sentence = \" \".join(corrected_words)\n",
    "    # Add the corrected sentence to the new dictionary\n",
    "    corrected_pos[key] = corrected_sentence\n",
    "\n",
    "# Print the corrected sentences and the number of stop words removed and misspelled words corrected\n",
    "print(f\"Number of stop words removed: {num_stop_words_removed}\")\n",
    "print(f\"Number of misspelled words corrected: {num_misspelled_words_corrected}\")"
   ]
  },
  {
   "cell_type": "code",
   "execution_count": 61,
   "metadata": {},
   "outputs": [
    {
     "name": "stdout",
     "output_type": "stream",
     "text": [
      "The number of  records of the positive dataset after data cleaning is 1000 \n",
      "The data volume of the positive dataset after data cleaning is 35.25 MB\n",
      "The number of  records of the negative dataset after data cleaning is 1000 \n",
      "The data volume of the negative dataset after data cleaning is 35.25 MB\n"
     ]
    }
   ],
   "source": [
    "import pandas as pd\n",
    "import sys\n",
    "\n",
    "\n",
    "# Calculate the number of records in the dataset\n",
    "num_records_pos = len(text_files_pos)\n",
    "num_records_neg = len(text_files_neg)\n",
    "\n",
    "# Calculate the size of each record in bytes\n",
    "record_size_pos = sys.getsizeof(text_files_pos)\n",
    "record_size_neg = sys.getsizeof(text_files_neg)\n",
    "\n",
    "# Calculate the total data volume in bytes\n",
    "data_volume_pos = num_records_pos * record_size_pos\n",
    "data_volume_neg = num_records_neg * record_size_neg\n",
    "\n",
    "# Convert the data volume to a more human-readable format\n",
    "data_volume_pos_mb = data_volume_pos / (1024 * 1024)\n",
    "data_volume_neg_mb = data_volume_neg / (1024 * 1024)\n",
    "\n",
    "# Print the data volume\n",
    "print(f\"The number of  records of the positive dataset after data cleaning is {num_records_pos} \")\n",
    "print(f\"The data volume of the positive dataset after data cleaning is {data_volume_pos_mb:.2f} MB\")\n",
    "print(f\"The number of  records of the negative dataset after data cleaning is {num_records_neg} \")\n",
    "print(f\"The data volume of the negative dataset after data cleaning is {data_volume_neg_mb:.2f} MB\")\n",
    "\n",
    "\n"
   ]
  },
  {
   "cell_type": "code",
   "execution_count": null,
   "metadata": {},
   "outputs": [],
   "source": [
    "import numpy as np\n",
    "import matplotlib.pyplot as plt\n",
    "\n",
    "# Get the length of each word in the sentences\n",
    "word_lengths = []\n",
    "for sentence in text_files_pos.values():\n",
    "    for word in sentence.split():\n",
    "        word_lengths.append(len(word))\n",
    "\n",
    "# Calculate the mean and standard deviation of the word lengths\n",
    "mean = np.mean(word_lengths)\n",
    "std_dev = np.std(word_lengths)\n",
    "\n",
    "# Generate a normal distribution of word lengths\n",
    "dist = np.random.normal(mean, std_dev, 1000)\n",
    "\n",
    "# Plot the distribution of word lengths\n",
    "plt.hist(dist, bins=50)\n",
    "plt.xlabel('Word Length')\n",
    "plt.ylabel('Frequency')\n",
    "plt.title('Distribution of Word Lengths in Positive Arabic Tweets After Data Cleaning')\n",
    "plt.show()"
   ]
  },
  {
   "cell_type": "code",
   "execution_count": null,
   "metadata": {},
   "outputs": [],
   "source": [
    "import numpy as np\n",
    "import matplotlib.pyplot as plt\n",
    "\n",
    "# Get the length of each word in the sentences\n",
    "word_lengths = []\n",
    "for sentence in text_files_neg.values():\n",
    "    for word in sentence.split():\n",
    "        word_lengths.append(len(word))\n",
    "\n",
    "# Calculate the mean and standard deviation of the word lengths\n",
    "mean = np.mean(word_lengths)\n",
    "std_dev = np.std(word_lengths)\n",
    "\n",
    "# Generate a normal distribution of word lengths\n",
    "dist = np.random.normal(mean, std_dev, 1000)\n",
    "\n",
    "# Plot the distribution of word lengths\n",
    "plt.hist(dist, bins=50)\n",
    "plt.xlabel('Word Length')\n",
    "plt.ylabel('Frequency')\n",
    "plt.title('Distribution of Word Lengths in Negative Arabic Tweets After Data Cleaning')\n",
    "plt.show()"
   ]
  }
 ],
 "metadata": {
  "kernelspec": {
   "display_name": "Python 3 (ipykernel)",
   "language": "python",
   "name": "python3"
  },
  "language_info": {
   "codemirror_mode": {
    "name": "ipython",
    "version": 3
   },
   "file_extension": ".py",
   "mimetype": "text/x-python",
   "name": "python",
   "nbconvert_exporter": "python",
   "pygments_lexer": "ipython3",
   "version": "3.10.0"
  }
 },
 "nbformat": 4,
 "nbformat_minor": 2
}
