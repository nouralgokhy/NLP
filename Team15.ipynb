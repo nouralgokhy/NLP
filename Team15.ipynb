{
 "cells": [
  {
   "cell_type": "code",
   "execution_count": 1,
   "metadata": {},
   "outputs": [],
   "source": [
    "# Arabic Tweets Emotion Recognition\n",
    "# Team 15"
   ]
  },
  {
   "cell_type": "code",
   "execution_count": 52,
   "metadata": {
    "scrolled": true
   },
   "outputs": [
    {
     "name": "stdout",
     "output_type": "stream",
     "text": [
      "Requirement already satisfied: chardet in c:\\users\\noura\\appdata\\local\\programs\\python\\python310\\lib\\site-packages (5.1.0)\n"
     ]
    },
    {
     "name": "stderr",
     "output_type": "stream",
     "text": [
      "WARNING: You are using pip version 21.2.3; however, version 23.1.2 is available.\n",
      "You should consider upgrading via the 'C:\\Users\\noura\\AppData\\Local\\Programs\\Python\\Python310\\python.exe -m pip install --upgrade pip' command.\n"
     ]
    },
    {
     "name": "stdout",
     "output_type": "stream",
     "text": [
      "Requirement already satisfied: wordcloud in c:\\users\\noura\\appdata\\local\\programs\\python\\python310\\lib\\site-packages (1.9.1.1)"
     ]
    },
    {
     "name": "stderr",
     "output_type": "stream",
     "text": [
      "WARNING: You are using pip version 21.2.3; however, version 23.1.2 is available.\n",
      "You should consider upgrading via the 'C:\\Users\\noura\\AppData\\Local\\Programs\\Python\\Python310\\python.exe -m pip install --upgrade pip' command.\n"
     ]
    },
    {
     "name": "stdout",
     "output_type": "stream",
     "text": [
      "\n",
      "Requirement already satisfied: numpy>=1.6.1 in c:\\users\\noura\\appdata\\local\\programs\\python\\python310\\lib\\site-packages (from wordcloud) (1.22.4)\n",
      "Requirement already satisfied: pillow in c:\\users\\noura\\appdata\\local\\programs\\python\\python310\\lib\\site-packages (from wordcloud) (9.1.1)\n",
      "Requirement already satisfied: matplotlib in c:\\users\\noura\\appdata\\local\\programs\\python\\python310\\lib\\site-packages (from wordcloud) (3.6.1)\n",
      "Requirement already satisfied: fonttools>=4.22.0 in c:\\users\\noura\\appdata\\local\\programs\\python\\python310\\lib\\site-packages (from matplotlib->wordcloud) (4.37.4)\n",
      "Requirement already satisfied: packaging>=20.0 in c:\\users\\noura\\appdata\\local\\programs\\python\\python310\\lib\\site-packages (from matplotlib->wordcloud) (21.3)\n",
      "Requirement already satisfied: pyparsing>=2.2.1 in c:\\users\\noura\\appdata\\local\\programs\\python\\python310\\lib\\site-packages (from matplotlib->wordcloud) (3.0.9)\n",
      "Requirement already satisfied: kiwisolver>=1.0.1 in c:\\users\\noura\\appdata\\local\\programs\\python\\python310\\lib\\site-packages (from matplotlib->wordcloud) (1.4.4)\n",
      "Requirement already satisfied: python-dateutil>=2.7 in c:\\users\\noura\\appdata\\local\\programs\\python\\python310\\lib\\site-packages (from matplotlib->wordcloud) (2.8.2)\n",
      "Requirement already satisfied: cycler>=0.10 in c:\\users\\noura\\appdata\\local\\programs\\python\\python310\\lib\\site-packages (from matplotlib->wordcloud) (0.11.0)\n",
      "Requirement already satisfied: contourpy>=1.0.1 in c:\\users\\noura\\appdata\\local\\programs\\python\\python310\\lib\\site-packages (from matplotlib->wordcloud) (1.0.5)\n",
      "Requirement already satisfied: six>=1.5 in c:\\users\\noura\\appdata\\local\\programs\\python\\python310\\lib\\site-packages (from python-dateutil>=2.7->matplotlib->wordcloud) (1.16.0)\n",
      "Requirement already satisfied: arabic-reshaper in c:\\users\\noura\\appdata\\local\\programs\\python\\python310\\lib\\site-packages (3.0.0)\n"
     ]
    },
    {
     "name": "stderr",
     "output_type": "stream",
     "text": [
      "WARNING: You are using pip version 21.2.3; however, version 23.1.2 is available.\n",
      "You should consider upgrading via the 'C:\\Users\\noura\\AppData\\Local\\Programs\\Python\\Python310\\python.exe -m pip install --upgrade pip' command.\n"
     ]
    },
    {
     "name": "stdout",
     "output_type": "stream",
     "text": [
      "Requirement already satisfied: python-bidi in c:\\users\\noura\\appdata\\local\\programs\\python\\python310\\lib\\site-packages (0.4.2)\n",
      "Requirement already satisfied: six in c:\\users\\noura\\appdata\\local\\programs\\python\\python310\\lib\\site-packages (from python-bidi) (1.16.0)\n"
     ]
    },
    {
     "name": "stderr",
     "output_type": "stream",
     "text": [
      "WARNING: You are using pip version 21.2.3; however, version 23.1.2 is available.\n",
      "You should consider upgrading via the 'C:\\Users\\noura\\AppData\\Local\\Programs\\Python\\Python310\\python.exe -m pip install --upgrade pip' command.\n"
     ]
    }
   ],
   "source": [
    "!pip install chardet\n",
    "!pip install wordcloud\n",
    "!pip install arabic-reshaper\n",
    "!pip install python-bidi"
   ]
  },
  {
   "cell_type": "code",
   "execution_count": 53,
   "metadata": {},
   "outputs": [],
   "source": [
    "import os\n",
    "import glob\n",
    "import codecs\n",
    "\n",
    "folder_path_neg = 'Twitter/Twitter/Negative'\n",
    "folder_path_pos = 'Twitter/Twitter/Positive'\n",
    "\n",
    "text_files_neg = {}\n",
    "text_files_pos = {}\n",
    "\n",
    "for file_path in glob.glob(os.path.join(folder_path_neg, '*.txt')):\n",
    "    # Read the contents of the text file\n",
    "    with open(file_path, 'r',encoding='UTF-8-SIG',errors='replace') as file:\n",
    "        file_contents = file.read()\n",
    "    # Store the file contents in the dictionary with the file name as the key\n",
    "    text_files_neg[os.path.basename(file_path)] = file_contents\n",
    "\n",
    "for file_path in glob.glob(os.path.join(folder_path_pos, '*.txt')):\n",
    "    # Read the contents of the text file\n",
    "    with open(file_path, 'r',encoding='UTF-8-SIG',errors='replace') as file:\n",
    "        file_contents = file.read()\n",
    "    # Store the file contents in the dictionary with the file name as the key\n",
    "    text_files_pos[os.path.basename(file_path)] = file_contents\n"
   ]
  },
  {
   "cell_type": "code",
   "execution_count": 54,
   "metadata": {},
   "outputs": [
    {
     "name": "stdout",
     "output_type": "stream",
     "text": [
      "البنزين يجي من السعوديه بأقل الاسعار و الحكومه عندنا تدبل سعره\n",
      "\n"
     ]
    }
   ],
   "source": [
    "print(text_files_neg[list(text_files_neg.keys())[1]])"
   ]
  },
  {
   "cell_type": "code",
   "execution_count": 55,
   "metadata": {},
   "outputs": [
    {
     "name": "stdout",
     "output_type": "stream",
     "text": [
      "اه و النعمة \n",
      "\n"
     ]
    }
   ],
   "source": [
    "print(text_files_pos[list(text_files_pos.keys())[2]])"
   ]
  },
  {
   "cell_type": "code",
   "execution_count": 56,
   "metadata": {},
   "outputs": [
    {
     "name": "stdout",
     "output_type": "stream",
     "text": [
      "The number of  records of the positive dataset is 1000 \n",
      "The data volume of the positive dataset is 35.25 MB\n",
      "The number of  records of the negative dataset is 1000 \n",
      "The data volume of the negative dataset is 35.25 MB\n"
     ]
    }
   ],
   "source": [
    "import pandas as pd\n",
    "import sys\n",
    "\n",
    "\n",
    "# Calculate the number of records in the dataset\n",
    "num_records_pos = len(text_files_pos)\n",
    "num_records_neg = len(text_files_neg)\n",
    "\n",
    "# Calculate the size of each record in bytes\n",
    "record_size_pos = sys.getsizeof(text_files_pos)\n",
    "record_size_neg = sys.getsizeof(text_files_neg)\n",
    "\n",
    "# Calculate the total data volume in bytes\n",
    "data_volume_pos = num_records_pos * record_size_pos\n",
    "data_volume_neg = num_records_neg * record_size_neg\n",
    "\n",
    "# Convert the data volume to a more human-readable format\n",
    "data_volume_pos_mb = data_volume_pos / (1024 * 1024)\n",
    "data_volume_neg_mb = data_volume_neg / (1024 * 1024)\n",
    "\n",
    "# Print the data volume\n",
    "print(f\"The number of  records of the positive dataset is {num_records_pos} \")\n",
    "print(f\"The data volume of the positive dataset is {data_volume_pos_mb:.2f} MB\")\n",
    "print(f\"The number of  records of the negative dataset is {num_records_neg} \")\n",
    "print(f\"The data volume of the negative dataset is {data_volume_neg_mb:.2f} MB\")\n",
    "\n",
    "\n"
   ]
  },
  {
   "cell_type": "code",
   "execution_count": 58,
   "metadata": {},
   "outputs": [
    {
     "name": "stderr",
     "output_type": "stream",
     "text": [
      "findfont: Font family 'Scheherazade' not found.\n",
      "findfont: Font family 'Scheherazade' not found.\n",
      "findfont: Font family 'Scheherazade' not found.\n",
      "findfont: Font family 'Scheherazade' not found.\n",
      "findfont: Font family 'Scheherazade' not found.\n",
      "findfont: Font family 'Scheherazade' not found.\n",
      "findfont: Font family 'Scheherazade' not found.\n",
      "findfont: Font family 'Scheherazade' not found.\n",
      "findfont: Font family 'Scheherazade' not found.\n",
      "findfont: Font family 'Scheherazade' not found.\n",
      "findfont: Font family 'Scheherazade' not found.\n",
      "findfont: Font family 'Scheherazade' not found.\n",
      "findfont: Font family 'Scheherazade' not found.\n",
      "findfont: Font family 'Scheherazade' not found.\n",
      "findfont: Font family 'Scheherazade' not found.\n",
      "findfont: Font family 'Scheherazade' not found.\n",
      "findfont: Font family 'Scheherazade' not found.\n",
      "findfont: Font family 'Scheherazade' not found.\n",
      "findfont: Font family 'Scheherazade' not found.\n",
      "findfont: Font family 'Scheherazade' not found.\n",
      "findfont: Font family 'Scheherazade' not found.\n",
      "findfont: Font family 'Scheherazade' not found.\n",
      "findfont: Font family 'Scheherazade' not found.\n",
      "findfont: Font family 'Scheherazade' not found.\n",
      "findfont: Font family 'Scheherazade' not found.\n",
      "findfont: Font family 'Scheherazade' not found.\n",
      "findfont: Font family 'Scheherazade' not found.\n",
      "findfont: Font family 'Scheherazade' not found.\n",
      "findfont: Font family 'Scheherazade' not found.\n",
      "findfont: Font family 'Scheherazade' not found.\n",
      "findfont: Font family 'Scheherazade' not found.\n",
      "findfont: Font family 'Scheherazade' not found.\n",
      "findfont: Font family 'Scheherazade' not found.\n",
      "findfont: Font family 'Scheherazade' not found.\n",
      "findfont: Font family 'Scheherazade' not found.\n",
      "findfont: Font family 'Scheherazade' not found.\n",
      "findfont: Font family 'Scheherazade' not found.\n",
      "findfont: Font family 'Scheherazade' not found.\n",
      "findfont: Font family 'Scheherazade' not found.\n",
      "findfont: Font family 'Scheherazade' not found.\n",
      "findfont: Font family 'Scheherazade' not found.\n",
      "findfont: Font family 'Scheherazade' not found.\n",
      "findfont: Font family 'Scheherazade' not found.\n",
      "findfont: Font family 'Scheherazade' not found.\n",
      "findfont: Font family 'Scheherazade' not found.\n",
      "findfont: Font family 'Scheherazade' not found.\n",
      "findfont: Font family 'Scheherazade' not found.\n",
      "findfont: Font family 'Scheherazade' not found.\n",
      "findfont: Font family 'Scheherazade' not found.\n",
      "findfont: Font family 'Scheherazade' not found.\n",
      "findfont: Font family 'Scheherazade' not found.\n"
     ]
    },
    {
     "data": {
      "image/png": "[encoded data removed]",
      "text/plain": [
       "<Figure size 640x480 with 1 Axes>"
      ]
     },
     "metadata": {},
     "output_type": "display_data"
    }
   ],
   "source": [
    "import numpy as np\n",
    "import matplotlib.pyplot as plt\n",
    "\n",
    "# Get the length of each word in the sentences\n",
    "word_lengths = []\n",
    "for sentence in text_files_pos.values():\n",
    "    for word in sentence.split():\n",
    "        word_lengths.append(len(word))\n",
    "\n",
    "# Calculate the mean and standard deviation of the word lengths\n",
    "mean = np.mean(word_lengths)\n",
    "std_dev = np.std(word_lengths)\n",
    "\n",
    "# Generate a normal distribution of word lengths\n",
    "dist = np.random.normal(mean, std_dev, 1000)\n",
    "\n",
    "# Plot the distribution of word lengths\n",
    "plt.hist(dist, bins=50)\n",
    "plt.xlabel('Word Length')\n",
    "plt.ylabel('Frequency')\n",
    "plt.title('Distribution of Word Lengths in Positive Arabic Tweets')\n",
    "plt.show()"
   ]
  },
  {
   "cell_type": "code",
   "execution_count": 45,
   "metadata": {},
   "outputs": [
    {
     "name": "stderr",
     "output_type": "stream",
     "text": [
      "findfont: Font family 'Scheherazade' not found.\n",
      "findfont: Font family 'Scheherazade' not found.\n",
      "findfont: Font family 'Scheherazade' not found.\n",
      "findfont: Font family 'Scheherazade' not found.\n",
      "findfont: Font family 'Scheherazade' not found.\n",
      "findfont: Font family 'Scheherazade' not found.\n",
      "findfont: Font family 'Scheherazade' not found.\n",
      "findfont: Font family 'Scheherazade' not found.\n",
      "findfont: Font family 'Scheherazade' not found.\n",
      "findfont: Font family 'Scheherazade' not found.\n",
      "findfont: Font family 'Scheherazade' not found.\n",
      "findfont: Font family 'Scheherazade' not found.\n",
      "findfont: Font family 'Scheherazade' not found.\n",
      "findfont: Font family 'Scheherazade' not found.\n",
      "findfont: Font family 'Scheherazade' not found.\n",
      "findfont: Font family 'Scheherazade' not found.\n",
      "findfont: Font family 'Scheherazade' not found.\n",
      "findfont: Font family 'Scheherazade' not found.\n",
      "findfont: Font family 'Scheherazade' not found.\n",
      "findfont: Font family 'Scheherazade' not found.\n",
      "findfont: Font family 'Scheherazade' not found.\n",
      "findfont: Font family 'Scheherazade' not found.\n",
      "findfont: Font family 'Scheherazade' not found.\n",
      "findfont: Font family 'Scheherazade' not found.\n",
      "findfont: Font family 'Scheherazade' not found.\n",
      "findfont: Font family 'Scheherazade' not found.\n",
      "findfont: Font family 'Scheherazade' not found.\n",
      "findfont: Font family 'Scheherazade' not found.\n",
      "findfont: Font family 'Scheherazade' not found.\n",
      "findfont: Font family 'Scheherazade' not found.\n",
      "findfont: Font family 'Scheherazade' not found.\n",
      "findfont: Font family 'Scheherazade' not found.\n",
      "findfont: Font family 'Scheherazade' not found.\n",
      "findfont: Font family 'Scheherazade' not found.\n",
      "findfont: Font family 'Scheherazade' not found.\n",
      "findfont: Font family 'Scheherazade' not found.\n",
      "findfont: Font family 'Scheherazade' not found.\n",
      "findfont: Font family 'Scheherazade' not found.\n",
      "findfont: Font family 'Scheherazade' not found.\n",
      "findfont: Font family 'Scheherazade' not found.\n",
      "findfont: Font family 'Scheherazade' not found.\n",
      "findfont: Font family 'Scheherazade' not found.\n",
      "findfont: Font family 'Scheherazade' not found.\n",
      "findfont: Font family 'Scheherazade' not found.\n",
      "findfont: Font family 'Scheherazade' not found.\n",
      "findfont: Font family 'Scheherazade' not found.\n",
      "findfont: Font family 'Scheherazade' not found.\n",
      "findfont: Font family 'Scheherazade' not found.\n",
      "findfont: Font family 'Scheherazade' not found.\n",
      "findfont: Font family 'Scheherazade' not found.\n",
      "findfont: Font family 'Scheherazade' not found.\n",
      "findfont: Font family 'Scheherazade' not found.\n",
      "findfont: Font family 'Scheherazade' not found.\n",
      "findfont: Font family 'Scheherazade' not found.\n",
      "findfont: Font family 'Scheherazade' not found.\n",
      "findfont: Font family 'Scheherazade' not found.\n",
      "findfont: Font family 'Scheherazade' not found.\n"
     ]
    },
    {
     "data": {
      "image/png": "[encoded data removed]",
      "text/plain": [
       "<Figure size 640x480 with 1 Axes>"
      ]
     },
     "metadata": {},
     "output_type": "display_data"
    }
   ],
   "source": [
    "import numpy as np\n",
    "import matplotlib.pyplot as plt\n",
    "\n",
    "# Get the length of each word in the sentences\n",
    "word_lengths = []\n",
    "for sentence in text_files_neg.values():\n",
    "    for word in sentence.split():\n",
    "        word_lengths.append(len(word))\n",
    "\n",
    "# Calculate the mean and standard deviation of the word lengths\n",
    "mean = np.mean(word_lengths)\n",
    "std_dev = np.std(word_lengths)\n",
    "\n",
    "# Generate a normal distribution of word lengths\n",
    "dist = np.random.normal(mean, std_dev, 1000)\n",
    "\n",
    "# Plot the distribution of word lengths\n",
    "plt.hist(dist, bins=50)\n",
    "plt.xlabel('Word Length')\n",
    "plt.ylabel('Frequency')\n",
    "plt.title('Distribution of Word Lengths in Negative Arabic Tweets')\n",
    "plt.show()"
   ]
  },
  {
   "cell_type": "code",
   "execution_count": 69,
   "metadata": {},
   "outputs": [
    {
     "name": "stdout",
     "output_type": "stream",
     "text": [
      "Number of stop words removed from negative tweets: 1944\n",
      "Number of misspelled words corrected in negative tweets: 142\n"
     ]
    }
   ],
   "source": [
    "from spellchecker import SpellChecker\n",
    "from nltk.corpus import stopwords\n",
    "import pyarabic.araby as araby\n",
    "\n",
    "# Create a SpellChecker object for Arabic\n",
    "spell = SpellChecker(language='ar')\n",
    "\n",
    "# Load Arabic stop words\n",
    "stop_words = set(stopwords.words('arabic'))\n",
    "\n",
    "# Define a function to check if a word is spelled correctly\n",
    "def check_spelling(word):\n",
    "    # Check if the word is a valid spelling according to the spellchecker\n",
    "    if spell.correction(word) == word:\n",
    "        return True\n",
    "    else:\n",
    "        return False\n",
    "\n",
    "# Define a function to correct a misspelled word\n",
    "def correct_spelling(word):\n",
    "    # Check if the word is a valid spelling according to the spellchecker\n",
    "    if spell.correction(word) == word:\n",
    "        return word\n",
    "    else:\n",
    "        corrections = spell.candidates(word)\n",
    "        if corrections:\n",
    "            return list(corrections)[0]\n",
    "        else:\n",
    "            return word\n",
    "\n",
    "\n",
    "# Define a new dictionary to store the corrected sentences\n",
    "corrected_neg = {}\n",
    "\n",
    "# Initialize counters for stop words removed and misspelled words corrected\n",
    "num_stop_words_removed = 0\n",
    "num_misspelled_words_corrected = 0\n",
    "\n",
    "# Iterate over the original sentences and correct the misspelled words and remove stop words\n",
    "for key, sentence in text_files_neg.items():\n",
    "    # Split the sentence into words\n",
    "    words = sentence.split()\n",
    "    # Count stop words\n",
    "    num_stop_words = sum([1 for word in words if word in stop_words])\n",
    "    num_stop_words_removed += num_stop_words\n",
    "    # Remove stop words and correct misspelled words\n",
    "    corrected_words = [correct_spelling(word) if not araby.is_arabicrange(word) and not check_spelling(word) else word for word in words if word not in stop_words]\n",
    "    # Count misspelled words and corrected words\n",
    "    num_misspelled_words = sum([1 for word in corrected_words if not araby.is_arabicrange(word) and not check_spelling(word)])\n",
    "    num_misspelled_words_corrected += num_misspelled_words\n",
    "    # Join the words back into a sentence\n",
    "    corrected_sentence = \" \".join(corrected_words)\n",
    "    # Add the corrected sentence to the new dictionary\n",
    "    corrected_neg[key] = corrected_sentence\n",
    "\n",
    "# Print the corrected sentences and the number of stop words removed and misspelled words corrected\n",
    "print(f\"Number of stop words removed from negative tweets: {num_stop_words_removed}\")\n",
    "print(f\"Number of misspelled words corrected in negative tweets: {num_misspelled_words_corrected}\")"
   ]
  },
  {
   "cell_type": "code",
   "execution_count": 70,
   "metadata": {},
   "outputs": [
    {
     "name": "stdout",
     "output_type": "stream",
     "text": [
      "Number of stop words removed from positive tweets: 1732\n",
      "Number of misspelled words corrected in positive tweets: 26\n"
     ]
    }
   ],
   "source": [
    "from spellchecker import SpellChecker\n",
    "from nltk.corpus import stopwords\n",
    "import pyarabic.araby as araby\n",
    "\n",
    "# Create a SpellChecker object for Arabic\n",
    "spell = SpellChecker(language='ar')\n",
    "\n",
    "# Load Arabic stop words\n",
    "stop_words = set(stopwords.words('arabic'))\n",
    "\n",
    "# Define a function to check if a word is spelled correctly\n",
    "def check_spelling(word):\n",
    "    # Check if the word is a valid spelling according to the spellchecker\n",
    "    if spell.correction(word) == word:\n",
    "        return True\n",
    "    else:\n",
    "        return False\n",
    "\n",
    "# Define a function to correct a misspelled word\n",
    "def correct_spelling(word):\n",
    "    # Check if the word is a valid spelling according to the spellchecker\n",
    "    if spell.correction(word) == word:\n",
    "        return word\n",
    "    else:\n",
    "        corrections = spell.candidates(word)\n",
    "        if corrections:\n",
    "            return list(corrections)[0]\n",
    "        else:\n",
    "            return word\n",
    "\n",
    "\n",
    "# Define a new dictionary to store the corrected sentences\n",
    "corrected_pos = {}\n",
    "\n",
    "# Initialize counters for stop words removed and misspelled words corrected\n",
    "num_stop_words_removed = 0\n",
    "num_misspelled_words_corrected = 0\n",
    "\n",
    "# Iterate over the original sentences and correct the misspelled words and remove stop words\n",
    "for key, sentence in text_files_pos.items():\n",
    "    # Split the sentence into words\n",
    "    words = sentence.split()\n",
    "    # Count stop words\n",
    "    num_stop_words = sum([1 for word in words if word in stop_words])\n",
    "    num_stop_words_removed += num_stop_words\n",
    "    # Remove stop words and correct misspelled words\n",
    "    corrected_words = [correct_spelling(word) if not araby.is_arabicrange(word) and not check_spelling(word) else word for word in words if word not in stop_words]\n",
    "    # Count misspelled words and corrected words\n",
    "    num_misspelled_words = sum([1 for word in corrected_words if not araby.is_arabicrange(word) and not check_spelling(word)])\n",
    "    num_misspelled_words_corrected += num_misspelled_words\n",
    "    # Join the words back into a sentence\n",
    "    corrected_sentence = \" \".join(corrected_words)\n",
    "    # Add the corrected sentence to the new dictionary\n",
    "    corrected_pos[key] = corrected_sentence\n",
    "\n",
    "# Print the corrected sentences and the number of stop words removed and misspelled words corrected\n",
    "print(f\"Number of stop words removed from positive tweets: {num_stop_words_removed}\")\n",
    "print(f\"Number of misspelled words corrected in positive tweets: {num_misspelled_words_corrected}\")"
   ]
  },
  {
   "cell_type": "code",
   "execution_count": 74,
   "metadata": {},
   "outputs": [
    {
     "name": "stdout",
     "output_type": "stream",
     "text": [
      "The number of  records of the positive dataset after data cleaning is 1000 \n",
      "The data volume of the positive dataset after data cleaning is 35.25 MB\n",
      "The number of  records of the negative dataset after data cleaning is 1000 \n",
      "The data volume of the negative dataset after data cleaning is 35.25 MB\n"
     ]
    }
   ],
   "source": [
    "import pandas as pd\n",
    "import sys\n",
    "\n",
    "\n",
    "# Calculate the number of records in the dataset\n",
    "num_records_pos = len(corrected_pos)\n",
    "num_records_neg = len(corrected_neg)\n",
    "\n",
    "# Calculate the size of each record in bytes\n",
    "record_size_pos = sys.getsizeof(corrected_pos)\n",
    "record_size_neg = sys.getsizeof(corrected_neg)\n",
    "\n",
    "# Calculate the total data volume in bytes\n",
    "data_volume_pos = num_records_pos * record_size_pos\n",
    "data_volume_neg = num_records_neg * record_size_neg\n",
    "\n",
    "# Convert the data volume to a more human-readable format\n",
    "data_volume_pos_mb = data_volume_pos / (1024 * 1024)\n",
    "data_volume_neg_mb = data_volume_neg / (1024 * 1024)\n",
    "\n",
    "# Print the data volume\n",
    "print(f\"The number of  records of the positive dataset after data cleaning is {num_records_pos} \")\n",
    "print(f\"The data volume of the positive dataset after data cleaning is {data_volume_pos_mb:.2f} MB\")\n",
    "print(f\"The number of  records of the negative dataset after data cleaning is {num_records_neg} \")\n",
    "print(f\"The data volume of the negative dataset after data cleaning is {data_volume_neg_mb:.2f} MB\")\n",
    "\n",
    "\n"
   ]
  },
  {
   "cell_type": "code",
   "execution_count": 76,
   "metadata": {},
   "outputs": [
    {
     "name": "stderr",
     "output_type": "stream",
     "text": [
      "findfont: Font family 'Scheherazade' not found.\n",
      "findfont: Font family 'Scheherazade' not found.\n",
      "findfont: Font family 'Scheherazade' not found.\n",
      "findfont: Font family 'Scheherazade' not found.\n",
      "findfont: Font family 'Scheherazade' not found.\n",
      "findfont: Font family 'Scheherazade' not found.\n",
      "findfont: Font family 'Scheherazade' not found.\n",
      "findfont: Font family 'Scheherazade' not found.\n",
      "findfont: Font family 'Scheherazade' not found.\n",
      "findfont: Font family 'Scheherazade' not found.\n",
      "findfont: Font family 'Scheherazade' not found.\n",
      "findfont: Font family 'Scheherazade' not found.\n",
      "findfont: Font family 'Scheherazade' not found.\n",
      "findfont: Font family 'Scheherazade' not found.\n",
      "findfont: Font family 'Scheherazade' not found.\n",
      "findfont: Font family 'Scheherazade' not found.\n",
      "findfont: Font family 'Scheherazade' not found.\n",
      "findfont: Font family 'Scheherazade' not found.\n",
      "findfont: Font family 'Scheherazade' not found.\n",
      "findfont: Font family 'Scheherazade' not found.\n",
      "findfont: Font family 'Scheherazade' not found.\n",
      "findfont: Font family 'Scheherazade' not found.\n",
      "findfont: Font family 'Scheherazade' not found.\n",
      "findfont: Font family 'Scheherazade' not found.\n",
      "findfont: Font family 'Scheherazade' not found.\n",
      "findfont: Font family 'Scheherazade' not found.\n",
      "findfont: Font family 'Scheherazade' not found.\n",
      "findfont: Font family 'Scheherazade' not found.\n",
      "findfont: Font family 'Scheherazade' not found.\n",
      "findfont: Font family 'Scheherazade' not found.\n",
      "findfont: Font family 'Scheherazade' not found.\n",
      "findfont: Font family 'Scheherazade' not found.\n",
      "findfont: Font family 'Scheherazade' not found.\n",
      "findfont: Font family 'Scheherazade' not found.\n",
      "findfont: Font family 'Scheherazade' not found.\n",
      "findfont: Font family 'Scheherazade' not found.\n",
      "findfont: Font family 'Scheherazade' not found.\n",
      "findfont: Font family 'Scheherazade' not found.\n",
      "findfont: Font family 'Scheherazade' not found.\n",
      "findfont: Font family 'Scheherazade' not found.\n",
      "findfont: Font family 'Scheherazade' not found.\n",
      "findfont: Font family 'Scheherazade' not found.\n",
      "findfont: Font family 'Scheherazade' not found.\n",
      "findfont: Font family 'Scheherazade' not found.\n",
      "findfont: Font family 'Scheherazade' not found.\n",
      "findfont: Font family 'Scheherazade' not found.\n",
      "findfont: Font family 'Scheherazade' not found.\n"
     ]
    },
    {
     "data": {
      "image/png": "[encoded data removed]",
      "text/plain": [
       "<Figure size 640x480 with 1 Axes>"
      ]
     },
     "metadata": {},
     "output_type": "display_data"
    }
   ],
   "source": [
    "import numpy as np\n",
    "import matplotlib.pyplot as plt\n",
    "\n",
    "# Get the length of each word in the sentences\n",
    "word_lengths = []\n",
    "for sentence in corrected_pos.values():\n",
    "    for word in sentence.split():\n",
    "        word_lengths.append(len(word))\n",
    "\n",
    "# Calculate the mean and standard deviation of the word lengths\n",
    "mean = np.mean(word_lengths)\n",
    "std_dev = np.std(word_lengths)\n",
    "\n",
    "# Generate a normal distribution of word lengths\n",
    "dist = np.random.normal(mean, std_dev, 1000)\n",
    "\n",
    "# Plot the distribution of word lengths\n",
    "plt.hist(dist, bins=50)\n",
    "plt.xlabel('Word Length')\n",
    "plt.ylabel('Frequency')\n",
    "plt.title('Distribution of Word Lengths in Positive Arabic Tweets After Data Cleaning')\n",
    "plt.show()"
   ]
  },
  {
   "cell_type": "code",
   "execution_count": 77,
   "metadata": {},
   "outputs": [
    {
     "name": "stderr",
     "output_type": "stream",
     "text": [
      "findfont: Font family 'Scheherazade' not found.\n",
      "findfont: Font family 'Scheherazade' not found.\n",
      "findfont: Font family 'Scheherazade' not found.\n",
      "findfont: Font family 'Scheherazade' not found.\n",
      "findfont: Font family 'Scheherazade' not found.\n",
      "findfont: Font family 'Scheherazade' not found.\n",
      "findfont: Font family 'Scheherazade' not found.\n",
      "findfont: Font family 'Scheherazade' not found.\n",
      "findfont: Font family 'Scheherazade' not found.\n",
      "findfont: Font family 'Scheherazade' not found.\n",
      "findfont: Font family 'Scheherazade' not found.\n",
      "findfont: Font family 'Scheherazade' not found.\n",
      "findfont: Font family 'Scheherazade' not found.\n",
      "findfont: Font family 'Scheherazade' not found.\n",
      "findfont: Font family 'Scheherazade' not found.\n",
      "findfont: Font family 'Scheherazade' not found.\n",
      "findfont: Font family 'Scheherazade' not found.\n",
      "findfont: Font family 'Scheherazade' not found.\n",
      "findfont: Font family 'Scheherazade' not found.\n",
      "findfont: Font family 'Scheherazade' not found.\n",
      "findfont: Font family 'Scheherazade' not found.\n",
      "findfont: Font family 'Scheherazade' not found.\n",
      "findfont: Font family 'Scheherazade' not found.\n",
      "findfont: Font family 'Scheherazade' not found.\n",
      "findfont: Font family 'Scheherazade' not found.\n",
      "findfont: Font family 'Scheherazade' not found.\n",
      "findfont: Font family 'Scheherazade' not found.\n",
      "findfont: Font family 'Scheherazade' not found.\n",
      "findfont: Font family 'Scheherazade' not found.\n",
      "findfont: Font family 'Scheherazade' not found.\n",
      "findfont: Font family 'Scheherazade' not found.\n",
      "findfont: Font family 'Scheherazade' not found.\n",
      "findfont: Font family 'Scheherazade' not found.\n",
      "findfont: Font family 'Scheherazade' not found.\n",
      "findfont: Font family 'Scheherazade' not found.\n",
      "findfont: Font family 'Scheherazade' not found.\n",
      "findfont: Font family 'Scheherazade' not found.\n",
      "findfont: Font family 'Scheherazade' not found.\n",
      "findfont: Font family 'Scheherazade' not found.\n",
      "findfont: Font family 'Scheherazade' not found.\n",
      "findfont: Font family 'Scheherazade' not found.\n",
      "findfont: Font family 'Scheherazade' not found.\n",
      "findfont: Font family 'Scheherazade' not found.\n",
      "findfont: Font family 'Scheherazade' not found.\n",
      "findfont: Font family 'Scheherazade' not found.\n",
      "findfont: Font family 'Scheherazade' not found.\n",
      "findfont: Font family 'Scheherazade' not found.\n",
      "findfont: Font family 'Scheherazade' not found.\n",
      "findfont: Font family 'Scheherazade' not found.\n",
      "findfont: Font family 'Scheherazade' not found.\n",
      "findfont: Font family 'Scheherazade' not found.\n"
     ]
    },
    {
     "data": {
      "image/png": "[encoded data removed]",
      "text/plain": [
       "<Figure size 640x480 with 1 Axes>"
      ]
     },
     "metadata": {},
     "output_type": "display_data"
    }
   ],
   "source": [
    "import numpy as np\n",
    "import matplotlib.pyplot as plt\n",
    "\n",
    "# Get the length of each word in the sentences\n",
    "word_lengths = []\n",
    "for sentence in corrected_neg.values():\n",
    "    for word in sentence.split():\n",
    "        word_lengths.append(len(word))\n",
    "\n",
    "# Calculate the mean and standard deviation of the word lengths\n",
    "mean = np.mean(word_lengths)\n",
    "std_dev = np.std(word_lengths)\n",
    "\n",
    "# Generate a normal distribution of word lengths\n",
    "dist = np.random.normal(mean, std_dev, 1000)\n",
    "\n",
    "# Plot the distribution of word lengths\n",
    "plt.hist(dist, bins=50)\n",
    "plt.xlabel('Word Length')\n",
    "plt.ylabel('Frequency')\n",
    "plt.title('Distribution of Word Lengths in Negative Arabic Tweets After Data Cleaning')\n",
    "plt.show()"
   ]
  },
  {
   "cell_type": "code",
   "execution_count": 78,
   "metadata": {},
   "outputs": [
    {
     "name": "stdout",
     "output_type": "stream",
     "text": [
      "اه و النعمة \n",
      "\n"
     ]
    }
   ],
   "source": [
    "print(text_files_pos[list(corrected_pos.keys())[2]])"
   ]
  },
  {
   "cell_type": "code",
   "execution_count": null,
   "metadata": {},
   "outputs": [],
   "source": []
  }
 ],
 "metadata": {
  "kernelspec": {
   "display_name": "Python 3 (ipykernel)",
   "language": "python",
   "name": "python3"
  },
  "language_info": {
   "codemirror_mode": {
    "name": "ipython",
    "version": 3
   },
   "file_extension": ".py",
   "mimetype": "text/x-python",
   "name": "python",
   "nbconvert_exporter": "python",
   "pygments_lexer": "ipython3",
   "version": "3.8.10"
  }
 },
 "nbformat": 4,
 "nbformat_minor": 2
}
